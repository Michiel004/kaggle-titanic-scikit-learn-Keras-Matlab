{
 "cells": [
  {
   "cell_type": "code",
   "execution_count": 394,
   "metadata": {},
   "outputs": [],
   "source": [
    "import numpy as np\n",
    "import pandas as pd\n",
    "import matplotlib.pyplot as plt\n",
    "import seaborn as sns\n",
    "from scipy import stats"
   ]
  },
  {
   "cell_type": "code",
   "execution_count": 395,
   "metadata": {},
   "outputs": [],
   "source": [
    "import numpy as np\n",
    "import pandas as pd\n",
    "import matplotlib.pyplot as plt\n",
    "import keras\n",
    "import seaborn as sns\n",
    "from keras.models import Sequential\n",
    "from keras.optimizers import SGD, RMSprop, Adam\n",
    "from keras.layers import Dense, Activation, Dropout\n",
    "from keras import backend as K\n",
    "from keras import optimizers\n",
    "from keras import losses\n",
    "from keras.optimizers import SGD\n",
    "\n",
    "import keras\n",
    "from keras.models import Sequential\n",
    "from keras.layers import Dense, Dropout, Activation\n",
    "from keras.optimizers import SGD\n",
    "from keras import initializers\n",
    "from sklearn.metrics import confusion_matrix\n",
    "from sklearn.metrics import f1_score\n",
    "from sklearn.metrics import precision_recall_fscore_support"
   ]
  },
  {
   "cell_type": "code",
   "execution_count": 396,
   "metadata": {},
   "outputs": [
    {
     "data": {
      "text/html": [
       "<div>\n",
       "<style scoped>\n",
       "    .dataframe tbody tr th:only-of-type {\n",
       "        vertical-align: middle;\n",
       "    }\n",
       "\n",
       "    .dataframe tbody tr th {\n",
       "        vertical-align: top;\n",
       "    }\n",
       "\n",
       "    .dataframe thead th {\n",
       "        text-align: right;\n",
       "    }\n",
       "</style>\n",
       "<table border=\"1\" class=\"dataframe\">\n",
       "  <thead>\n",
       "    <tr style=\"text-align: right;\">\n",
       "      <th></th>\n",
       "      <th>principal component 1</th>\n",
       "      <th>principal component 2</th>\n",
       "      <th>principal component 3</th>\n",
       "      <th>PCA1K2</th>\n",
       "      <th>PCA2K2</th>\n",
       "      <th>Pclass</th>\n",
       "      <th>Age</th>\n",
       "      <th>SibSp</th>\n",
       "      <th>Parch</th>\n",
       "      <th>Fare</th>\n",
       "      <th>...</th>\n",
       "      <th>Title_Mrs</th>\n",
       "      <th>Title_Rare</th>\n",
       "      <th>Age_type_Children</th>\n",
       "      <th>Age_type_Teenage</th>\n",
       "      <th>Age_type_Adult</th>\n",
       "      <th>Age_type_Elder</th>\n",
       "      <th>Fare_type_Low_fare</th>\n",
       "      <th>Fare_type_median_fare</th>\n",
       "      <th>Fare_type_Average_fare</th>\n",
       "      <th>Fare_type_high_fare</th>\n",
       "    </tr>\n",
       "  </thead>\n",
       "  <tbody>\n",
       "    <tr>\n",
       "      <th>0</th>\n",
       "      <td>-2.080945</td>\n",
       "      <td>-0.887804</td>\n",
       "      <td>0.509364</td>\n",
       "      <td>-2.080946</td>\n",
       "      <td>-0.888417</td>\n",
       "      <td>0.841916</td>\n",
       "      <td>-0.584166</td>\n",
       "      <td>0.481288</td>\n",
       "      <td>-0.445</td>\n",
       "      <td>-0.503488</td>\n",
       "      <td>...</td>\n",
       "      <td>-0.422159</td>\n",
       "      <td>-0.15052</td>\n",
       "      <td>-0.278148</td>\n",
       "      <td>-0.365148</td>\n",
       "      <td>0.789981</td>\n",
       "      <td>-0.491869</td>\n",
       "      <td>1.758017</td>\n",
       "      <td>-0.557055</td>\n",
       "      <td>-0.582937</td>\n",
       "      <td>-0.501432</td>\n",
       "    </tr>\n",
       "    <tr>\n",
       "      <th>1</th>\n",
       "      <td>3.468895</td>\n",
       "      <td>2.293439</td>\n",
       "      <td>-1.440919</td>\n",
       "      <td>3.469481</td>\n",
       "      <td>2.293412</td>\n",
       "      <td>-1.546098</td>\n",
       "      <td>0.639860</td>\n",
       "      <td>0.481288</td>\n",
       "      <td>-0.445</td>\n",
       "      <td>0.734601</td>\n",
       "      <td>...</td>\n",
       "      <td>2.368778</td>\n",
       "      <td>-0.15052</td>\n",
       "      <td>-0.278148</td>\n",
       "      <td>-0.365148</td>\n",
       "      <td>0.789981</td>\n",
       "      <td>-0.491869</td>\n",
       "      <td>-0.568823</td>\n",
       "      <td>-0.557055</td>\n",
       "      <td>-0.582937</td>\n",
       "      <td>1.994288</td>\n",
       "    </tr>\n",
       "    <tr>\n",
       "      <th>2</th>\n",
       "      <td>-0.115602</td>\n",
       "      <td>-1.959971</td>\n",
       "      <td>-2.099052</td>\n",
       "      <td>-0.115524</td>\n",
       "      <td>-1.958656</td>\n",
       "      <td>0.841916</td>\n",
       "      <td>-0.278160</td>\n",
       "      <td>-0.479087</td>\n",
       "      <td>-0.445</td>\n",
       "      <td>-0.490436</td>\n",
       "      <td>...</td>\n",
       "      <td>-0.422159</td>\n",
       "      <td>-0.15052</td>\n",
       "      <td>-0.278148</td>\n",
       "      <td>-0.365148</td>\n",
       "      <td>0.789981</td>\n",
       "      <td>-0.491869</td>\n",
       "      <td>-0.568823</td>\n",
       "      <td>1.795155</td>\n",
       "      <td>-0.582937</td>\n",
       "      <td>-0.501432</td>\n",
       "    </tr>\n",
       "    <tr>\n",
       "      <th>3</th>\n",
       "      <td>2.868667</td>\n",
       "      <td>1.390982</td>\n",
       "      <td>-0.976561</td>\n",
       "      <td>2.869178</td>\n",
       "      <td>1.391102</td>\n",
       "      <td>-1.546098</td>\n",
       "      <td>0.410355</td>\n",
       "      <td>0.481288</td>\n",
       "      <td>-0.445</td>\n",
       "      <td>0.383026</td>\n",
       "      <td>...</td>\n",
       "      <td>2.368778</td>\n",
       "      <td>-0.15052</td>\n",
       "      <td>-0.278148</td>\n",
       "      <td>-0.365148</td>\n",
       "      <td>0.789981</td>\n",
       "      <td>-0.491869</td>\n",
       "      <td>-0.568823</td>\n",
       "      <td>-0.557055</td>\n",
       "      <td>-0.582937</td>\n",
       "      <td>1.994288</td>\n",
       "    </tr>\n",
       "    <tr>\n",
       "      <th>4</th>\n",
       "      <td>-2.401716</td>\n",
       "      <td>-0.167382</td>\n",
       "      <td>0.244433</td>\n",
       "      <td>-2.401634</td>\n",
       "      <td>-0.167243</td>\n",
       "      <td>0.841916</td>\n",
       "      <td>0.410355</td>\n",
       "      <td>-0.479087</td>\n",
       "      <td>-0.445</td>\n",
       "      <td>-0.488020</td>\n",
       "      <td>...</td>\n",
       "      <td>-0.422159</td>\n",
       "      <td>-0.15052</td>\n",
       "      <td>-0.278148</td>\n",
       "      <td>-0.365148</td>\n",
       "      <td>0.789981</td>\n",
       "      <td>-0.491869</td>\n",
       "      <td>-0.568823</td>\n",
       "      <td>1.795155</td>\n",
       "      <td>-0.582937</td>\n",
       "      <td>-0.501432</td>\n",
       "    </tr>\n",
       "  </tbody>\n",
       "</table>\n",
       "<p>5 rows × 32 columns</p>\n",
       "</div>"
      ],
      "text/plain": [
       "   principal component 1  principal component 2  principal component 3  \\\n",
       "0              -2.080945              -0.887804               0.509364   \n",
       "1               3.468895               2.293439              -1.440919   \n",
       "2              -0.115602              -1.959971              -2.099052   \n",
       "3               2.868667               1.390982              -0.976561   \n",
       "4              -2.401716              -0.167382               0.244433   \n",
       "\n",
       "     PCA1K2    PCA2K2    Pclass       Age     SibSp  Parch      Fare  ...  \\\n",
       "0 -2.080946 -0.888417  0.841916 -0.584166  0.481288 -0.445 -0.503488  ...   \n",
       "1  3.469481  2.293412 -1.546098  0.639860  0.481288 -0.445  0.734601  ...   \n",
       "2 -0.115524 -1.958656  0.841916 -0.278160 -0.479087 -0.445 -0.490436  ...   \n",
       "3  2.869178  1.391102 -1.546098  0.410355  0.481288 -0.445  0.383026  ...   \n",
       "4 -2.401634 -0.167243  0.841916  0.410355 -0.479087 -0.445 -0.488020  ...   \n",
       "\n",
       "   Title_Mrs  Title_Rare  Age_type_Children  Age_type_Teenage  Age_type_Adult  \\\n",
       "0  -0.422159    -0.15052          -0.278148         -0.365148        0.789981   \n",
       "1   2.368778    -0.15052          -0.278148         -0.365148        0.789981   \n",
       "2  -0.422159    -0.15052          -0.278148         -0.365148        0.789981   \n",
       "3   2.368778    -0.15052          -0.278148         -0.365148        0.789981   \n",
       "4  -0.422159    -0.15052          -0.278148         -0.365148        0.789981   \n",
       "\n",
       "   Age_type_Elder  Fare_type_Low_fare  Fare_type_median_fare  \\\n",
       "0       -0.491869            1.758017              -0.557055   \n",
       "1       -0.491869           -0.568823              -0.557055   \n",
       "2       -0.491869           -0.568823               1.795155   \n",
       "3       -0.491869           -0.568823              -0.557055   \n",
       "4       -0.491869           -0.568823               1.795155   \n",
       "\n",
       "   Fare_type_Average_fare  Fare_type_high_fare  \n",
       "0               -0.582937            -0.501432  \n",
       "1               -0.582937             1.994288  \n",
       "2               -0.582937            -0.501432  \n",
       "3               -0.582937             1.994288  \n",
       "4               -0.582937            -0.501432  \n",
       "\n",
       "[5 rows x 32 columns]"
      ]
     },
     "execution_count": 396,
     "metadata": {},
     "output_type": "execute_result"
    }
   ],
   "source": [
    "trainx = pd.read_csv('normTitanicTrainv2.csv')\n",
    "trainx.head()"
   ]
  },
  {
   "cell_type": "code",
   "execution_count": 397,
   "metadata": {},
   "outputs": [
    {
     "data": {
      "text/plain": [
       "(892, 32)"
      ]
     },
     "execution_count": 397,
     "metadata": {},
     "output_type": "execute_result"
    }
   ],
   "source": [
    "trainx.shape"
   ]
  },
  {
   "cell_type": "code",
   "execution_count": 398,
   "metadata": {},
   "outputs": [],
   "source": [
    "model = Sequential() \n",
    "model.add(Dense(9, input_dim=32, activation='relu',kernel_initializer=initializers.random_normal(stddev=0.01)))\n",
    "model.add(Dropout(0.5))\n",
    "model.add(Dense(6, activation='relu',kernel_initializer=initializers.random_normal(stddev=0.01)))\n",
    "model.add(Dropout(0.5))\n",
    "model.add(Dense(2, activation='softmax',kernel_initializer=initializers.random_normal(stddev=0.01)))"
   ]
  },
  {
   "cell_type": "code",
   "execution_count": 399,
   "metadata": {},
   "outputs": [
    {
     "name": "stdout",
     "output_type": "stream",
     "text": [
      "Model: \"sequential_15\"\n",
      "_________________________________________________________________\n",
      "Layer (type)                 Output Shape              Param #   \n",
      "=================================================================\n",
      "dense_43 (Dense)             (None, 9)                 297       \n",
      "_________________________________________________________________\n",
      "dropout_29 (Dropout)         (None, 9)                 0         \n",
      "_________________________________________________________________\n",
      "dense_44 (Dense)             (None, 6)                 60        \n",
      "_________________________________________________________________\n",
      "dropout_30 (Dropout)         (None, 6)                 0         \n",
      "_________________________________________________________________\n",
      "dense_45 (Dense)             (None, 2)                 14        \n",
      "=================================================================\n",
      "Total params: 371\n",
      "Trainable params: 371\n",
      "Non-trainable params: 0\n",
      "_________________________________________________________________\n"
     ]
    }
   ],
   "source": [
    "model.summary()"
   ]
  },
  {
   "cell_type": "code",
   "execution_count": 400,
   "metadata": {},
   "outputs": [
    {
     "data": {
      "text/html": [
       "<div>\n",
       "<style scoped>\n",
       "    .dataframe tbody tr th:only-of-type {\n",
       "        vertical-align: middle;\n",
       "    }\n",
       "\n",
       "    .dataframe tbody tr th {\n",
       "        vertical-align: top;\n",
       "    }\n",
       "\n",
       "    .dataframe thead th {\n",
       "        text-align: right;\n",
       "    }\n",
       "</style>\n",
       "<table border=\"1\" class=\"dataframe\">\n",
       "  <thead>\n",
       "    <tr style=\"text-align: right;\">\n",
       "      <th></th>\n",
       "      <th>Survived</th>\n",
       "    </tr>\n",
       "  </thead>\n",
       "  <tbody>\n",
       "    <tr>\n",
       "      <th>0</th>\n",
       "      <td>0</td>\n",
       "    </tr>\n",
       "    <tr>\n",
       "      <th>1</th>\n",
       "      <td>1</td>\n",
       "    </tr>\n",
       "    <tr>\n",
       "      <th>2</th>\n",
       "      <td>1</td>\n",
       "    </tr>\n",
       "    <tr>\n",
       "      <th>3</th>\n",
       "      <td>1</td>\n",
       "    </tr>\n",
       "    <tr>\n",
       "      <th>4</th>\n",
       "      <td>0</td>\n",
       "    </tr>\n",
       "  </tbody>\n",
       "</table>\n",
       "</div>"
      ],
      "text/plain": [
       "   Survived\n",
       "0         0\n",
       "1         1\n",
       "2         1\n",
       "3         1\n",
       "4         0"
      ]
     },
     "execution_count": 400,
     "metadata": {},
     "output_type": "execute_result"
    }
   ],
   "source": [
    "trainy = pd.read_csv('TitanicTrainY.csv')\n",
    "trainy.head()"
   ]
  },
  {
   "cell_type": "code",
   "execution_count": 401,
   "metadata": {},
   "outputs": [
    {
     "data": {
      "text/html": [
       "<div>\n",
       "<style scoped>\n",
       "    .dataframe tbody tr th:only-of-type {\n",
       "        vertical-align: middle;\n",
       "    }\n",
       "\n",
       "    .dataframe tbody tr th {\n",
       "        vertical-align: top;\n",
       "    }\n",
       "\n",
       "    .dataframe thead th {\n",
       "        text-align: right;\n",
       "    }\n",
       "</style>\n",
       "<table border=\"1\" class=\"dataframe\">\n",
       "  <thead>\n",
       "    <tr style=\"text-align: right;\">\n",
       "      <th></th>\n",
       "      <th>principal component 1</th>\n",
       "      <th>principal component 2</th>\n",
       "      <th>principal component 3</th>\n",
       "      <th>PCA1K2</th>\n",
       "      <th>PCA2K2</th>\n",
       "      <th>Pclass</th>\n",
       "      <th>Age</th>\n",
       "      <th>SibSp</th>\n",
       "      <th>Parch</th>\n",
       "      <th>Fare</th>\n",
       "      <th>...</th>\n",
       "      <th>Title_Mrs</th>\n",
       "      <th>Title_Rare</th>\n",
       "      <th>Age_type_Children</th>\n",
       "      <th>Age_type_Teenage</th>\n",
       "      <th>Age_type_Adult</th>\n",
       "      <th>Age_type_Elder</th>\n",
       "      <th>Fare_type_Low_fare</th>\n",
       "      <th>Fare_type_median_fare</th>\n",
       "      <th>Fare_type_Average_fare</th>\n",
       "      <th>Fare_type_high_fare</th>\n",
       "    </tr>\n",
       "  </thead>\n",
       "  <tbody>\n",
       "    <tr>\n",
       "      <th>0</th>\n",
       "      <td>1.129840</td>\n",
       "      <td>0.402480</td>\n",
       "      <td>-1.355072</td>\n",
       "      <td>1.130204</td>\n",
       "      <td>0.402187</td>\n",
       "      <td>0.841916</td>\n",
       "      <td>1.328375</td>\n",
       "      <td>0.481288</td>\n",
       "      <td>-0.445000</td>\n",
       "      <td>-0.508321</td>\n",
       "      <td>...</td>\n",
       "      <td>2.368778</td>\n",
       "      <td>-0.15052</td>\n",
       "      <td>-0.278148</td>\n",
       "      <td>-0.365148</td>\n",
       "      <td>-1.265854</td>\n",
       "      <td>2.033060</td>\n",
       "      <td>1.758017</td>\n",
       "      <td>-0.557055</td>\n",
       "      <td>-0.582937</td>\n",
       "      <td>-0.501432</td>\n",
       "    </tr>\n",
       "    <tr>\n",
       "      <th>1</th>\n",
       "      <td>-1.705687</td>\n",
       "      <td>2.040858</td>\n",
       "      <td>-0.404718</td>\n",
       "      <td>-1.705655</td>\n",
       "      <td>2.040562</td>\n",
       "      <td>-0.352091</td>\n",
       "      <td>2.475900</td>\n",
       "      <td>-0.479087</td>\n",
       "      <td>-0.445000</td>\n",
       "      <td>-0.456358</td>\n",
       "      <td>...</td>\n",
       "      <td>-0.422159</td>\n",
       "      <td>-0.15052</td>\n",
       "      <td>-0.278148</td>\n",
       "      <td>-0.365148</td>\n",
       "      <td>-1.265854</td>\n",
       "      <td>2.033060</td>\n",
       "      <td>-0.568823</td>\n",
       "      <td>1.795155</td>\n",
       "      <td>-0.582937</td>\n",
       "      <td>-0.501432</td>\n",
       "    </tr>\n",
       "    <tr>\n",
       "      <th>2</th>\n",
       "      <td>-2.397632</td>\n",
       "      <td>-0.422331</td>\n",
       "      <td>0.273303</td>\n",
       "      <td>-2.397556</td>\n",
       "      <td>-0.422194</td>\n",
       "      <td>0.841916</td>\n",
       "      <td>-0.201658</td>\n",
       "      <td>-0.479087</td>\n",
       "      <td>-0.445000</td>\n",
       "      <td>-0.476177</td>\n",
       "      <td>...</td>\n",
       "      <td>-0.422159</td>\n",
       "      <td>-0.15052</td>\n",
       "      <td>-0.278148</td>\n",
       "      <td>-0.365148</td>\n",
       "      <td>0.789981</td>\n",
       "      <td>-0.491869</td>\n",
       "      <td>-0.568823</td>\n",
       "      <td>1.795155</td>\n",
       "      <td>-0.582937</td>\n",
       "      <td>-0.501432</td>\n",
       "    </tr>\n",
       "    <tr>\n",
       "      <th>3</th>\n",
       "      <td>1.264114</td>\n",
       "      <td>-1.679634</td>\n",
       "      <td>-1.071035</td>\n",
       "      <td>1.264329</td>\n",
       "      <td>-1.679487</td>\n",
       "      <td>0.841916</td>\n",
       "      <td>-0.584166</td>\n",
       "      <td>0.481288</td>\n",
       "      <td>0.710763</td>\n",
       "      <td>-0.406087</td>\n",
       "      <td>...</td>\n",
       "      <td>2.368778</td>\n",
       "      <td>-0.15052</td>\n",
       "      <td>-0.278148</td>\n",
       "      <td>-0.365148</td>\n",
       "      <td>0.789981</td>\n",
       "      <td>-0.491869</td>\n",
       "      <td>-0.568823</td>\n",
       "      <td>1.795155</td>\n",
       "      <td>-0.582937</td>\n",
       "      <td>-0.501432</td>\n",
       "    </tr>\n",
       "    <tr>\n",
       "      <th>4</th>\n",
       "      <td>-2.078728</td>\n",
       "      <td>-0.958319</td>\n",
       "      <td>0.739991</td>\n",
       "      <td>-2.078761</td>\n",
       "      <td>-0.958543</td>\n",
       "      <td>0.841916</td>\n",
       "      <td>-1.196179</td>\n",
       "      <td>-0.479087</td>\n",
       "      <td>-0.445000</td>\n",
       "      <td>-0.465301</td>\n",
       "      <td>...</td>\n",
       "      <td>-0.422159</td>\n",
       "      <td>-0.15052</td>\n",
       "      <td>-0.278148</td>\n",
       "      <td>2.738613</td>\n",
       "      <td>-1.265854</td>\n",
       "      <td>-0.491869</td>\n",
       "      <td>-0.568823</td>\n",
       "      <td>1.795155</td>\n",
       "      <td>-0.582937</td>\n",
       "      <td>-0.501432</td>\n",
       "    </tr>\n",
       "  </tbody>\n",
       "</table>\n",
       "<p>5 rows × 32 columns</p>\n",
       "</div>"
      ],
      "text/plain": [
       "   principal component 1  principal component 2  principal component 3  \\\n",
       "0               1.129840               0.402480              -1.355072   \n",
       "1              -1.705687               2.040858              -0.404718   \n",
       "2              -2.397632              -0.422331               0.273303   \n",
       "3               1.264114              -1.679634              -1.071035   \n",
       "4              -2.078728              -0.958319               0.739991   \n",
       "\n",
       "     PCA1K2    PCA2K2    Pclass       Age     SibSp     Parch      Fare  ...  \\\n",
       "0  1.130204  0.402187  0.841916  1.328375  0.481288 -0.445000 -0.508321  ...   \n",
       "1 -1.705655  2.040562 -0.352091  2.475900 -0.479087 -0.445000 -0.456358  ...   \n",
       "2 -2.397556 -0.422194  0.841916 -0.201658 -0.479087 -0.445000 -0.476177  ...   \n",
       "3  1.264329 -1.679487  0.841916 -0.584166  0.481288  0.710763 -0.406087  ...   \n",
       "4 -2.078761 -0.958543  0.841916 -1.196179 -0.479087 -0.445000 -0.465301  ...   \n",
       "\n",
       "   Title_Mrs  Title_Rare  Age_type_Children  Age_type_Teenage  Age_type_Adult  \\\n",
       "0   2.368778    -0.15052          -0.278148         -0.365148       -1.265854   \n",
       "1  -0.422159    -0.15052          -0.278148         -0.365148       -1.265854   \n",
       "2  -0.422159    -0.15052          -0.278148         -0.365148        0.789981   \n",
       "3   2.368778    -0.15052          -0.278148         -0.365148        0.789981   \n",
       "4  -0.422159    -0.15052          -0.278148          2.738613       -1.265854   \n",
       "\n",
       "   Age_type_Elder  Fare_type_Low_fare  Fare_type_median_fare  \\\n",
       "0        2.033060            1.758017              -0.557055   \n",
       "1        2.033060           -0.568823               1.795155   \n",
       "2       -0.491869           -0.568823               1.795155   \n",
       "3       -0.491869           -0.568823               1.795155   \n",
       "4       -0.491869           -0.568823               1.795155   \n",
       "\n",
       "   Fare_type_Average_fare  Fare_type_high_fare  \n",
       "0               -0.582937            -0.501432  \n",
       "1               -0.582937            -0.501432  \n",
       "2               -0.582937            -0.501432  \n",
       "3               -0.582937            -0.501432  \n",
       "4               -0.582937            -0.501432  \n",
       "\n",
       "[5 rows x 32 columns]"
      ]
     },
     "execution_count": 401,
     "metadata": {},
     "output_type": "execute_result"
    }
   ],
   "source": [
    "testx = pd.read_csv('normTitanicTestv2.csv')\n",
    "testx.head()"
   ]
  },
  {
   "cell_type": "code",
   "execution_count": 402,
   "metadata": {},
   "outputs": [
    {
     "data": {
      "text/html": [
       "<div>\n",
       "<style scoped>\n",
       "    .dataframe tbody tr th:only-of-type {\n",
       "        vertical-align: middle;\n",
       "    }\n",
       "\n",
       "    .dataframe tbody tr th {\n",
       "        vertical-align: top;\n",
       "    }\n",
       "\n",
       "    .dataframe thead th {\n",
       "        text-align: right;\n",
       "    }\n",
       "</style>\n",
       "<table border=\"1\" class=\"dataframe\">\n",
       "  <thead>\n",
       "    <tr style=\"text-align: right;\">\n",
       "      <th></th>\n",
       "      <th>Survived</th>\n",
       "    </tr>\n",
       "  </thead>\n",
       "  <tbody>\n",
       "    <tr>\n",
       "      <th>0</th>\n",
       "      <td>1</td>\n",
       "    </tr>\n",
       "    <tr>\n",
       "      <th>1</th>\n",
       "      <td>0</td>\n",
       "    </tr>\n",
       "    <tr>\n",
       "      <th>2</th>\n",
       "      <td>0</td>\n",
       "    </tr>\n",
       "    <tr>\n",
       "      <th>3</th>\n",
       "      <td>1</td>\n",
       "    </tr>\n",
       "    <tr>\n",
       "      <th>4</th>\n",
       "      <td>0</td>\n",
       "    </tr>\n",
       "  </tbody>\n",
       "</table>\n",
       "</div>"
      ],
      "text/plain": [
       "   Survived\n",
       "0         1\n",
       "1         0\n",
       "2         0\n",
       "3         1\n",
       "4         0"
      ]
     },
     "execution_count": 402,
     "metadata": {},
     "output_type": "execute_result"
    }
   ],
   "source": [
    "testy = pd.read_csv('TitanicTestY.csv')\n",
    "testy.head()"
   ]
  },
  {
   "cell_type": "code",
   "execution_count": 403,
   "metadata": {},
   "outputs": [],
   "source": [
    "model.compile(loss='categorical_crossentropy',optimizer = 'adam',metrics = ['accuracy'])\n",
    "#history = model.fit(trainSet, Ycombined, validation_split=0.01, epochs=1000, batch_size=128, verbose=0)"
   ]
  },
  {
   "cell_type": "code",
   "execution_count": 404,
   "metadata": {},
   "outputs": [],
   "source": [
    "notY=1-testy"
   ]
  },
  {
   "cell_type": "code",
   "execution_count": 405,
   "metadata": {},
   "outputs": [],
   "source": [
    "YcombinedTest = np.column_stack((testy, notY))"
   ]
  },
  {
   "cell_type": "code",
   "execution_count": 406,
   "metadata": {},
   "outputs": [
    {
     "data": {
      "text/plain": [
       "(417, 2)"
      ]
     },
     "execution_count": 406,
     "metadata": {},
     "output_type": "execute_result"
    }
   ],
   "source": [
    "YcombinedTest.shape"
   ]
  },
  {
   "cell_type": "code",
   "execution_count": 407,
   "metadata": {},
   "outputs": [],
   "source": [
    "#YcombinedTest"
   ]
  },
  {
   "cell_type": "code",
   "execution_count": 408,
   "metadata": {},
   "outputs": [
    {
     "data": {
      "text/plain": [
       "(417, 2)"
      ]
     },
     "execution_count": 408,
     "metadata": {},
     "output_type": "execute_result"
    }
   ],
   "source": [
    "YcombinedTest.shape"
   ]
  },
  {
   "cell_type": "code",
   "execution_count": 409,
   "metadata": {},
   "outputs": [],
   "source": [
    "notY=1-trainy"
   ]
  },
  {
   "cell_type": "code",
   "execution_count": 410,
   "metadata": {},
   "outputs": [],
   "source": [
    "YcombinedTrain = np.column_stack((trainy, notY))"
   ]
  },
  {
   "cell_type": "code",
   "execution_count": 411,
   "metadata": {},
   "outputs": [],
   "source": [
    "history = model.fit(trainx, YcombinedTrain, validation_data=(testx, YcombinedTest), epochs=1000, batch_size=128, verbose=0)"
   ]
  },
  {
   "cell_type": "code",
   "execution_count": 412,
   "metadata": {},
   "outputs": [],
   "source": [
    "def plot_loss(history):\n",
    "    plt.plot(history.history['loss'])\n",
    "    plt.plot(history.history['val_loss'])\n",
    "    plt.title('Model loss')\n",
    "    plt.ylabel('Loss')\n",
    "    plt.xlabel('Epoch')\n",
    "    plt.legend(['Train', 'Test'], loc='upper left')\n",
    "    plt.show()"
   ]
  },
  {
   "cell_type": "code",
   "execution_count": 413,
   "metadata": {},
   "outputs": [
    {
     "data": {
      "image/png": "[encoded data removed]",
      "text/plain": [
       "<Figure size 432x288 with 1 Axes>"
      ]
     },
     "metadata": {
      "needs_background": "light"
     },
     "output_type": "display_data"
    }
   ],
   "source": [
    "plot_loss(history)"
   ]
  },
  {
   "cell_type": "code",
   "execution_count": 414,
   "metadata": {},
   "outputs": [
    {
     "name": "stdout",
     "output_type": "stream",
     "text": [
      "417/417 [==============================] - 0s 17us/step\n"
     ]
    }
   ],
   "source": [
    "score, acc = model.evaluate(testx, YcombinedTest,batch_size=128)"
   ]
  },
  {
   "cell_type": "code",
   "execution_count": 415,
   "metadata": {},
   "outputs": [
    {
     "data": {
      "text/plain": [
       "0.34416576812593197"
      ]
     },
     "execution_count": 415,
     "metadata": {},
     "output_type": "execute_result"
    }
   ],
   "source": [
    "score"
   ]
  },
  {
   "cell_type": "code",
   "execution_count": 416,
   "metadata": {},
   "outputs": [
    {
     "data": {
      "text/plain": [
       "0.8681055307388306"
      ]
     },
     "execution_count": 416,
     "metadata": {},
     "output_type": "execute_result"
    }
   ],
   "source": [
    "acc"
   ]
  },
  {
   "cell_type": "code",
   "execution_count": 417,
   "metadata": {},
   "outputs": [],
   "source": [
    "predict = model.predict(testx)"
   ]
  },
  {
   "cell_type": "code",
   "execution_count": 418,
   "metadata": {},
   "outputs": [
    {
     "data": {
      "text/plain": [
       "(417,)"
      ]
     },
     "execution_count": 418,
     "metadata": {},
     "output_type": "execute_result"
    }
   ],
   "source": [
    "predict[:,1].shape"
   ]
  },
  {
   "cell_type": "code",
   "execution_count": 419,
   "metadata": {},
   "outputs": [
    {
     "data": {
      "text/plain": [
       "array([0.49776492, 0.50223505], dtype=float32)"
      ]
     },
     "execution_count": 419,
     "metadata": {},
     "output_type": "execute_result"
    }
   ],
   "source": [
    "predict[0,:]"
   ]
  },
  {
   "cell_type": "code",
   "execution_count": 420,
   "metadata": {},
   "outputs": [],
   "source": [
    "test = predict[:,0]\n",
    "for i in range(len(test)):\n",
    "    if predict[i,0] > 0.5: \n",
    "        predict[i,0] = 1\n",
    "    else:\n",
    "        predict[i,0] = 0"
   ]
  },
  {
   "cell_type": "code",
   "execution_count": 421,
   "metadata": {},
   "outputs": [],
   "source": [
    "#test = predict[:,0]\n",
    "#for i in test:\n",
    "   #print(i)"
   ]
  },
  {
   "cell_type": "code",
   "execution_count": 422,
   "metadata": {},
   "outputs": [
    {
     "name": "stdout",
     "output_type": "stream",
     "text": [
      "[[239  26]\n",
      " [ 29 123]]\n"
     ]
    },
    {
     "data": {
      "text/plain": [
       "(0.8676286257380954, 0.86810551558753, 0.8678194193319247, None)"
      ]
     },
     "execution_count": 422,
     "metadata": {},
     "output_type": "execute_result"
    }
   ],
   "source": [
    "cm=confusion_matrix(testy, predict[:,0])\n",
    "print(cm)\n",
    "precision_recall_fscore_support(testy, predict[:,0],  average='weighted')"
   ]
  }
 ],
 "metadata": {
  "kernelspec": {
   "display_name": "Python 3",
   "language": "python",
   "name": "python3"
  },
  "language_info": {
   "codemirror_mode": {
    "name": "ipython",
    "version": 3
   },
   "file_extension": ".py",
   "mimetype": "text/x-python",
   "name": "python",
   "nbconvert_exporter": "python",
   "pygments_lexer": "ipython3",
   "version": "3.7.6"
  }
 },
 "nbformat": 4,
 "nbformat_minor": 4
}
