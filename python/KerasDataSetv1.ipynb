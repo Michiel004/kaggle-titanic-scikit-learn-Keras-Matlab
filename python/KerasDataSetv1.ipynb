{
 "cells": [
  {
   "cell_type": "code",
   "execution_count": 22,
   "metadata": {},
   "outputs": [],
   "source": [
    "import numpy as np\n",
    "import pandas as pd\n",
    "import matplotlib.pyplot as plt\n",
    "import seaborn as sns\n",
    "from scipy import stats"
   ]
  },
  {
   "cell_type": "code",
   "execution_count": 23,
   "metadata": {},
   "outputs": [],
   "source": [
    "import numpy as np\n",
    "import pandas as pd\n",
    "import matplotlib.pyplot as plt\n",
    "import keras\n",
    "import seaborn as sns\n",
    "from keras.models import Sequential\n",
    "from keras.optimizers import SGD, RMSprop, Adam\n",
    "from keras.layers import Dense, Activation, Dropout\n",
    "from keras import backend as K\n",
    "from keras import optimizers\n",
    "from keras import losses\n",
    "from keras.optimizers import SGD\n",
    "\n",
    "import keras\n",
    "from keras.models import Sequential\n",
    "from keras.layers import Dense, Dropout, Activation\n",
    "from keras.optimizers import SGD\n",
    "from keras import initializers\n",
    "from sklearn.metrics import confusion_matrix\n",
    "from sklearn.metrics import f1_score\n",
    "from sklearn.metrics import precision_recall_fscore_support"
   ]
  },
  {
   "cell_type": "code",
   "execution_count": 24,
   "metadata": {},
   "outputs": [
    {
     "data": {
      "text/html": [
       "<div>\n",
       "<style scoped>\n",
       "    .dataframe tbody tr th:only-of-type {\n",
       "        vertical-align: middle;\n",
       "    }\n",
       "\n",
       "    .dataframe tbody tr th {\n",
       "        vertical-align: top;\n",
       "    }\n",
       "\n",
       "    .dataframe thead th {\n",
       "        text-align: right;\n",
       "    }\n",
       "</style>\n",
       "<table border=\"1\" class=\"dataframe\">\n",
       "  <thead>\n",
       "    <tr style=\"text-align: right;\">\n",
       "      <th></th>\n",
       "      <th>Pclass</th>\n",
       "      <th>Age</th>\n",
       "      <th>SibSp</th>\n",
       "      <th>Parch</th>\n",
       "      <th>Fare</th>\n",
       "      <th>Cabin</th>\n",
       "      <th>TicketLeter</th>\n",
       "      <th>TicketNumber</th>\n",
       "      <th>female</th>\n",
       "      <th>male</th>\n",
       "      <th>...</th>\n",
       "      <th>Title_Mrs</th>\n",
       "      <th>Title_Rare</th>\n",
       "      <th>Age_type_Children</th>\n",
       "      <th>Age_type_Teenage</th>\n",
       "      <th>Age_type_Adult</th>\n",
       "      <th>Age_type_Elder</th>\n",
       "      <th>Fare_type_Low_fare</th>\n",
       "      <th>Fare_type_median_fare</th>\n",
       "      <th>Fare_type_Average_fare</th>\n",
       "      <th>Fare_type_high_fare</th>\n",
       "    </tr>\n",
       "  </thead>\n",
       "  <tbody>\n",
       "    <tr>\n",
       "      <th>0</th>\n",
       "      <td>0.841916</td>\n",
       "      <td>-0.584166</td>\n",
       "      <td>0.481288</td>\n",
       "      <td>-0.445</td>\n",
       "      <td>-0.503488</td>\n",
       "      <td>-0.539150</td>\n",
       "      <td>1.596619</td>\n",
       "      <td>-0.043994</td>\n",
       "      <td>-0.743497</td>\n",
       "      <td>0.743497</td>\n",
       "      <td>...</td>\n",
       "      <td>-0.422159</td>\n",
       "      <td>-0.15052</td>\n",
       "      <td>-0.278148</td>\n",
       "      <td>-0.365148</td>\n",
       "      <td>0.789981</td>\n",
       "      <td>-0.491869</td>\n",
       "      <td>1.758017</td>\n",
       "      <td>-0.557055</td>\n",
       "      <td>-0.582937</td>\n",
       "      <td>-0.501432</td>\n",
       "    </tr>\n",
       "    <tr>\n",
       "      <th>1</th>\n",
       "      <td>-1.546098</td>\n",
       "      <td>0.639860</td>\n",
       "      <td>0.481288</td>\n",
       "      <td>-0.445</td>\n",
       "      <td>0.734601</td>\n",
       "      <td>1.838896</td>\n",
       "      <td>1.678210</td>\n",
       "      <td>-0.205993</td>\n",
       "      <td>1.344995</td>\n",
       "      <td>-1.344995</td>\n",
       "      <td>...</td>\n",
       "      <td>2.368778</td>\n",
       "      <td>-0.15052</td>\n",
       "      <td>-0.278148</td>\n",
       "      <td>-0.365148</td>\n",
       "      <td>0.789981</td>\n",
       "      <td>-0.491869</td>\n",
       "      <td>-0.568823</td>\n",
       "      <td>-0.557055</td>\n",
       "      <td>-0.582937</td>\n",
       "      <td>1.994288</td>\n",
       "    </tr>\n",
       "    <tr>\n",
       "      <th>2</th>\n",
       "      <td>0.841916</td>\n",
       "      <td>-0.278160</td>\n",
       "      <td>-0.479087</td>\n",
       "      <td>-0.445</td>\n",
       "      <td>-0.490436</td>\n",
       "      <td>-0.539150</td>\n",
       "      <td>1.678210</td>\n",
       "      <td>7.220019</td>\n",
       "      <td>1.344995</td>\n",
       "      <td>-1.344995</td>\n",
       "      <td>...</td>\n",
       "      <td>-0.422159</td>\n",
       "      <td>-0.15052</td>\n",
       "      <td>-0.278148</td>\n",
       "      <td>-0.365148</td>\n",
       "      <td>0.789981</td>\n",
       "      <td>-0.491869</td>\n",
       "      <td>-0.568823</td>\n",
       "      <td>1.795155</td>\n",
       "      <td>-0.582937</td>\n",
       "      <td>-0.501432</td>\n",
       "    </tr>\n",
       "    <tr>\n",
       "      <th>3</th>\n",
       "      <td>-1.546098</td>\n",
       "      <td>0.410355</td>\n",
       "      <td>0.481288</td>\n",
       "      <td>-0.445</td>\n",
       "      <td>0.383026</td>\n",
       "      <td>1.838896</td>\n",
       "      <td>-0.606360</td>\n",
       "      <td>-0.175044</td>\n",
       "      <td>1.344995</td>\n",
       "      <td>-1.344995</td>\n",
       "      <td>...</td>\n",
       "      <td>2.368778</td>\n",
       "      <td>-0.15052</td>\n",
       "      <td>-0.278148</td>\n",
       "      <td>-0.365148</td>\n",
       "      <td>0.789981</td>\n",
       "      <td>-0.491869</td>\n",
       "      <td>-0.568823</td>\n",
       "      <td>-0.557055</td>\n",
       "      <td>-0.582937</td>\n",
       "      <td>1.994288</td>\n",
       "    </tr>\n",
       "    <tr>\n",
       "      <th>4</th>\n",
       "      <td>0.841916</td>\n",
       "      <td>0.410355</td>\n",
       "      <td>-0.479087</td>\n",
       "      <td>-0.445</td>\n",
       "      <td>-0.488020</td>\n",
       "      <td>-0.539150</td>\n",
       "      <td>-0.606360</td>\n",
       "      <td>-0.091516</td>\n",
       "      <td>-0.743497</td>\n",
       "      <td>0.743497</td>\n",
       "      <td>...</td>\n",
       "      <td>-0.422159</td>\n",
       "      <td>-0.15052</td>\n",
       "      <td>-0.278148</td>\n",
       "      <td>-0.365148</td>\n",
       "      <td>0.789981</td>\n",
       "      <td>-0.491869</td>\n",
       "      <td>-0.568823</td>\n",
       "      <td>1.795155</td>\n",
       "      <td>-0.582937</td>\n",
       "      <td>-0.501432</td>\n",
       "    </tr>\n",
       "  </tbody>\n",
       "</table>\n",
       "<p>5 rows × 27 columns</p>\n",
       "</div>"
      ],
      "text/plain": [
       "     Pclass       Age     SibSp  Parch      Fare     Cabin  TicketLeter  \\\n",
       "0  0.841916 -0.584166  0.481288 -0.445 -0.503488 -0.539150     1.596619   \n",
       "1 -1.546098  0.639860  0.481288 -0.445  0.734601  1.838896     1.678210   \n",
       "2  0.841916 -0.278160 -0.479087 -0.445 -0.490436 -0.539150     1.678210   \n",
       "3 -1.546098  0.410355  0.481288 -0.445  0.383026  1.838896    -0.606360   \n",
       "4  0.841916  0.410355 -0.479087 -0.445 -0.488020 -0.539150    -0.606360   \n",
       "\n",
       "   TicketNumber    female      male  ...  Title_Mrs  Title_Rare  \\\n",
       "0     -0.043994 -0.743497  0.743497  ...  -0.422159    -0.15052   \n",
       "1     -0.205993  1.344995 -1.344995  ...   2.368778    -0.15052   \n",
       "2      7.220019  1.344995 -1.344995  ...  -0.422159    -0.15052   \n",
       "3     -0.175044  1.344995 -1.344995  ...   2.368778    -0.15052   \n",
       "4     -0.091516 -0.743497  0.743497  ...  -0.422159    -0.15052   \n",
       "\n",
       "   Age_type_Children  Age_type_Teenage  Age_type_Adult  Age_type_Elder  \\\n",
       "0          -0.278148         -0.365148        0.789981       -0.491869   \n",
       "1          -0.278148         -0.365148        0.789981       -0.491869   \n",
       "2          -0.278148         -0.365148        0.789981       -0.491869   \n",
       "3          -0.278148         -0.365148        0.789981       -0.491869   \n",
       "4          -0.278148         -0.365148        0.789981       -0.491869   \n",
       "\n",
       "   Fare_type_Low_fare  Fare_type_median_fare  Fare_type_Average_fare  \\\n",
       "0            1.758017              -0.557055               -0.582937   \n",
       "1           -0.568823              -0.557055               -0.582937   \n",
       "2           -0.568823               1.795155               -0.582937   \n",
       "3           -0.568823              -0.557055               -0.582937   \n",
       "4           -0.568823               1.795155               -0.582937   \n",
       "\n",
       "   Fare_type_high_fare  \n",
       "0            -0.501432  \n",
       "1             1.994288  \n",
       "2            -0.501432  \n",
       "3             1.994288  \n",
       "4            -0.501432  \n",
       "\n",
       "[5 rows x 27 columns]"
      ]
     },
     "execution_count": 24,
     "metadata": {},
     "output_type": "execute_result"
    }
   ],
   "source": [
    "trainx = pd.read_csv('normTitanicTrain.csv')\n",
    "trainx.head()"
   ]
  },
  {
   "cell_type": "code",
   "execution_count": 25,
   "metadata": {},
   "outputs": [
    {
     "data": {
      "text/plain": [
       "(892, 27)"
      ]
     },
     "execution_count": 25,
     "metadata": {},
     "output_type": "execute_result"
    }
   ],
   "source": [
    "trainx.shape"
   ]
  },
  {
   "cell_type": "code",
   "execution_count": 26,
   "metadata": {},
   "outputs": [],
   "source": [
    "model = Sequential() \n",
    "model.add(Dense(9, input_dim=27, activation='relu',kernel_initializer=initializers.random_normal(stddev=0.01)))\n",
    "model.add(Dropout(0.5))\n",
    "model.add(Dense(6, activation='relu',kernel_initializer=initializers.random_normal(stddev=0.01)))\n",
    "model.add(Dropout(0.5))\n",
    "model.add(Dense(2, activation='softmax',kernel_initializer=initializers.random_normal(stddev=0.01)))"
   ]
  },
  {
   "cell_type": "code",
   "execution_count": 27,
   "metadata": {},
   "outputs": [
    {
     "name": "stdout",
     "output_type": "stream",
     "text": [
      "Model: \"sequential_2\"\n",
      "_________________________________________________________________\n",
      "Layer (type)                 Output Shape              Param #   \n",
      "=================================================================\n",
      "dense_4 (Dense)              (None, 9)                 252       \n",
      "_________________________________________________________________\n",
      "dropout_3 (Dropout)          (None, 9)                 0         \n",
      "_________________________________________________________________\n",
      "dense_5 (Dense)              (None, 6)                 60        \n",
      "_________________________________________________________________\n",
      "dropout_4 (Dropout)          (None, 6)                 0         \n",
      "_________________________________________________________________\n",
      "dense_6 (Dense)              (None, 2)                 14        \n",
      "=================================================================\n",
      "Total params: 326\n",
      "Trainable params: 326\n",
      "Non-trainable params: 0\n",
      "_________________________________________________________________\n"
     ]
    }
   ],
   "source": [
    "model.summary()"
   ]
  },
  {
   "cell_type": "code",
   "execution_count": 28,
   "metadata": {},
   "outputs": [
    {
     "data": {
      "text/html": [
       "<div>\n",
       "<style scoped>\n",
       "    .dataframe tbody tr th:only-of-type {\n",
       "        vertical-align: middle;\n",
       "    }\n",
       "\n",
       "    .dataframe tbody tr th {\n",
       "        vertical-align: top;\n",
       "    }\n",
       "\n",
       "    .dataframe thead th {\n",
       "        text-align: right;\n",
       "    }\n",
       "</style>\n",
       "<table border=\"1\" class=\"dataframe\">\n",
       "  <thead>\n",
       "    <tr style=\"text-align: right;\">\n",
       "      <th></th>\n",
       "      <th>Survived</th>\n",
       "    </tr>\n",
       "  </thead>\n",
       "  <tbody>\n",
       "    <tr>\n",
       "      <th>0</th>\n",
       "      <td>0</td>\n",
       "    </tr>\n",
       "    <tr>\n",
       "      <th>1</th>\n",
       "      <td>1</td>\n",
       "    </tr>\n",
       "    <tr>\n",
       "      <th>2</th>\n",
       "      <td>1</td>\n",
       "    </tr>\n",
       "    <tr>\n",
       "      <th>3</th>\n",
       "      <td>1</td>\n",
       "    </tr>\n",
       "    <tr>\n",
       "      <th>4</th>\n",
       "      <td>0</td>\n",
       "    </tr>\n",
       "  </tbody>\n",
       "</table>\n",
       "</div>"
      ],
      "text/plain": [
       "   Survived\n",
       "0         0\n",
       "1         1\n",
       "2         1\n",
       "3         1\n",
       "4         0"
      ]
     },
     "execution_count": 28,
     "metadata": {},
     "output_type": "execute_result"
    }
   ],
   "source": [
    "trainy = pd.read_csv('TitanicTrainY.csv')\n",
    "trainy.head()"
   ]
  },
  {
   "cell_type": "code",
   "execution_count": 29,
   "metadata": {},
   "outputs": [
    {
     "data": {
      "text/html": [
       "<div>\n",
       "<style scoped>\n",
       "    .dataframe tbody tr th:only-of-type {\n",
       "        vertical-align: middle;\n",
       "    }\n",
       "\n",
       "    .dataframe tbody tr th {\n",
       "        vertical-align: top;\n",
       "    }\n",
       "\n",
       "    .dataframe thead th {\n",
       "        text-align: right;\n",
       "    }\n",
       "</style>\n",
       "<table border=\"1\" class=\"dataframe\">\n",
       "  <thead>\n",
       "    <tr style=\"text-align: right;\">\n",
       "      <th></th>\n",
       "      <th>Pclass</th>\n",
       "      <th>Age</th>\n",
       "      <th>SibSp</th>\n",
       "      <th>Parch</th>\n",
       "      <th>Fare</th>\n",
       "      <th>Cabin</th>\n",
       "      <th>TicketLeter</th>\n",
       "      <th>TicketNumber</th>\n",
       "      <th>female</th>\n",
       "      <th>male</th>\n",
       "      <th>...</th>\n",
       "      <th>Title_Mrs</th>\n",
       "      <th>Title_Rare</th>\n",
       "      <th>Age_type_Children</th>\n",
       "      <th>Age_type_Teenage</th>\n",
       "      <th>Age_type_Adult</th>\n",
       "      <th>Age_type_Elder</th>\n",
       "      <th>Fare_type_Low_fare</th>\n",
       "      <th>Fare_type_median_fare</th>\n",
       "      <th>Fare_type_Average_fare</th>\n",
       "      <th>Fare_type_high_fare</th>\n",
       "    </tr>\n",
       "  </thead>\n",
       "  <tbody>\n",
       "    <tr>\n",
       "      <th>0</th>\n",
       "      <td>0.841916</td>\n",
       "      <td>1.328375</td>\n",
       "      <td>0.481288</td>\n",
       "      <td>-0.445000</td>\n",
       "      <td>-0.508321</td>\n",
       "      <td>-0.53915</td>\n",
       "      <td>-0.60636</td>\n",
       "      <td>-0.094790</td>\n",
       "      <td>1.344995</td>\n",
       "      <td>-1.344995</td>\n",
       "      <td>...</td>\n",
       "      <td>2.368778</td>\n",
       "      <td>-0.15052</td>\n",
       "      <td>-0.278148</td>\n",
       "      <td>-0.365148</td>\n",
       "      <td>-1.265854</td>\n",
       "      <td>2.033060</td>\n",
       "      <td>1.758017</td>\n",
       "      <td>-0.557055</td>\n",
       "      <td>-0.582937</td>\n",
       "      <td>-0.501432</td>\n",
       "    </tr>\n",
       "    <tr>\n",
       "      <th>1</th>\n",
       "      <td>-0.352091</td>\n",
       "      <td>2.475900</td>\n",
       "      <td>-0.479087</td>\n",
       "      <td>-0.445000</td>\n",
       "      <td>-0.456358</td>\n",
       "      <td>-0.53915</td>\n",
       "      <td>-0.60636</td>\n",
       "      <td>-0.134358</td>\n",
       "      <td>-0.743497</td>\n",
       "      <td>0.743497</td>\n",
       "      <td>...</td>\n",
       "      <td>-0.422159</td>\n",
       "      <td>-0.15052</td>\n",
       "      <td>-0.278148</td>\n",
       "      <td>-0.365148</td>\n",
       "      <td>-1.265854</td>\n",
       "      <td>2.033060</td>\n",
       "      <td>-0.568823</td>\n",
       "      <td>1.795155</td>\n",
       "      <td>-0.582937</td>\n",
       "      <td>-0.501432</td>\n",
       "    </tr>\n",
       "    <tr>\n",
       "      <th>2</th>\n",
       "      <td>0.841916</td>\n",
       "      <td>-0.201658</td>\n",
       "      <td>-0.479087</td>\n",
       "      <td>-0.445000</td>\n",
       "      <td>-0.476177</td>\n",
       "      <td>-0.53915</td>\n",
       "      <td>-0.60636</td>\n",
       "      <td>-0.110270</td>\n",
       "      <td>-0.743497</td>\n",
       "      <td>0.743497</td>\n",
       "      <td>...</td>\n",
       "      <td>-0.422159</td>\n",
       "      <td>-0.15052</td>\n",
       "      <td>-0.278148</td>\n",
       "      <td>-0.365148</td>\n",
       "      <td>0.789981</td>\n",
       "      <td>-0.491869</td>\n",
       "      <td>-0.568823</td>\n",
       "      <td>1.795155</td>\n",
       "      <td>-0.582937</td>\n",
       "      <td>-0.501432</td>\n",
       "    </tr>\n",
       "    <tr>\n",
       "      <th>3</th>\n",
       "      <td>0.841916</td>\n",
       "      <td>-0.584166</td>\n",
       "      <td>0.481288</td>\n",
       "      <td>0.710763</td>\n",
       "      <td>-0.406087</td>\n",
       "      <td>-0.53915</td>\n",
       "      <td>-0.60636</td>\n",
       "      <td>0.786032</td>\n",
       "      <td>1.344995</td>\n",
       "      <td>-1.344995</td>\n",
       "      <td>...</td>\n",
       "      <td>2.368778</td>\n",
       "      <td>-0.15052</td>\n",
       "      <td>-0.278148</td>\n",
       "      <td>-0.365148</td>\n",
       "      <td>0.789981</td>\n",
       "      <td>-0.491869</td>\n",
       "      <td>-0.568823</td>\n",
       "      <td>1.795155</td>\n",
       "      <td>-0.582937</td>\n",
       "      <td>-0.501432</td>\n",
       "    </tr>\n",
       "    <tr>\n",
       "      <th>4</th>\n",
       "      <td>0.841916</td>\n",
       "      <td>-1.196179</td>\n",
       "      <td>-0.479087</td>\n",
       "      <td>-0.445000</td>\n",
       "      <td>-0.465301</td>\n",
       "      <td>-0.53915</td>\n",
       "      <td>-0.60636</td>\n",
       "      <td>-0.209230</td>\n",
       "      <td>-0.743497</td>\n",
       "      <td>0.743497</td>\n",
       "      <td>...</td>\n",
       "      <td>-0.422159</td>\n",
       "      <td>-0.15052</td>\n",
       "      <td>-0.278148</td>\n",
       "      <td>2.738613</td>\n",
       "      <td>-1.265854</td>\n",
       "      <td>-0.491869</td>\n",
       "      <td>-0.568823</td>\n",
       "      <td>1.795155</td>\n",
       "      <td>-0.582937</td>\n",
       "      <td>-0.501432</td>\n",
       "    </tr>\n",
       "  </tbody>\n",
       "</table>\n",
       "<p>5 rows × 27 columns</p>\n",
       "</div>"
      ],
      "text/plain": [
       "     Pclass       Age     SibSp     Parch      Fare    Cabin  TicketLeter  \\\n",
       "0  0.841916  1.328375  0.481288 -0.445000 -0.508321 -0.53915     -0.60636   \n",
       "1 -0.352091  2.475900 -0.479087 -0.445000 -0.456358 -0.53915     -0.60636   \n",
       "2  0.841916 -0.201658 -0.479087 -0.445000 -0.476177 -0.53915     -0.60636   \n",
       "3  0.841916 -0.584166  0.481288  0.710763 -0.406087 -0.53915     -0.60636   \n",
       "4  0.841916 -1.196179 -0.479087 -0.445000 -0.465301 -0.53915     -0.60636   \n",
       "\n",
       "   TicketNumber    female      male  ...  Title_Mrs  Title_Rare  \\\n",
       "0     -0.094790  1.344995 -1.344995  ...   2.368778    -0.15052   \n",
       "1     -0.134358 -0.743497  0.743497  ...  -0.422159    -0.15052   \n",
       "2     -0.110270 -0.743497  0.743497  ...  -0.422159    -0.15052   \n",
       "3      0.786032  1.344995 -1.344995  ...   2.368778    -0.15052   \n",
       "4     -0.209230 -0.743497  0.743497  ...  -0.422159    -0.15052   \n",
       "\n",
       "   Age_type_Children  Age_type_Teenage  Age_type_Adult  Age_type_Elder  \\\n",
       "0          -0.278148         -0.365148       -1.265854        2.033060   \n",
       "1          -0.278148         -0.365148       -1.265854        2.033060   \n",
       "2          -0.278148         -0.365148        0.789981       -0.491869   \n",
       "3          -0.278148         -0.365148        0.789981       -0.491869   \n",
       "4          -0.278148          2.738613       -1.265854       -0.491869   \n",
       "\n",
       "   Fare_type_Low_fare  Fare_type_median_fare  Fare_type_Average_fare  \\\n",
       "0            1.758017              -0.557055               -0.582937   \n",
       "1           -0.568823               1.795155               -0.582937   \n",
       "2           -0.568823               1.795155               -0.582937   \n",
       "3           -0.568823               1.795155               -0.582937   \n",
       "4           -0.568823               1.795155               -0.582937   \n",
       "\n",
       "   Fare_type_high_fare  \n",
       "0            -0.501432  \n",
       "1            -0.501432  \n",
       "2            -0.501432  \n",
       "3            -0.501432  \n",
       "4            -0.501432  \n",
       "\n",
       "[5 rows x 27 columns]"
      ]
     },
     "execution_count": 29,
     "metadata": {},
     "output_type": "execute_result"
    }
   ],
   "source": [
    "testx = pd.read_csv('normTitanicTest.csv')\n",
    "testx.head()"
   ]
  },
  {
   "cell_type": "code",
   "execution_count": 30,
   "metadata": {},
   "outputs": [
    {
     "data": {
      "text/html": [
       "<div>\n",
       "<style scoped>\n",
       "    .dataframe tbody tr th:only-of-type {\n",
       "        vertical-align: middle;\n",
       "    }\n",
       "\n",
       "    .dataframe tbody tr th {\n",
       "        vertical-align: top;\n",
       "    }\n",
       "\n",
       "    .dataframe thead th {\n",
       "        text-align: right;\n",
       "    }\n",
       "</style>\n",
       "<table border=\"1\" class=\"dataframe\">\n",
       "  <thead>\n",
       "    <tr style=\"text-align: right;\">\n",
       "      <th></th>\n",
       "      <th>Survived</th>\n",
       "    </tr>\n",
       "  </thead>\n",
       "  <tbody>\n",
       "    <tr>\n",
       "      <th>0</th>\n",
       "      <td>1</td>\n",
       "    </tr>\n",
       "    <tr>\n",
       "      <th>1</th>\n",
       "      <td>0</td>\n",
       "    </tr>\n",
       "    <tr>\n",
       "      <th>2</th>\n",
       "      <td>0</td>\n",
       "    </tr>\n",
       "    <tr>\n",
       "      <th>3</th>\n",
       "      <td>1</td>\n",
       "    </tr>\n",
       "    <tr>\n",
       "      <th>4</th>\n",
       "      <td>0</td>\n",
       "    </tr>\n",
       "  </tbody>\n",
       "</table>\n",
       "</div>"
      ],
      "text/plain": [
       "   Survived\n",
       "0         1\n",
       "1         0\n",
       "2         0\n",
       "3         1\n",
       "4         0"
      ]
     },
     "execution_count": 30,
     "metadata": {},
     "output_type": "execute_result"
    }
   ],
   "source": [
    "testy = pd.read_csv('TitanicTestY.csv')\n",
    "testy.head()"
   ]
  },
  {
   "cell_type": "code",
   "execution_count": 31,
   "metadata": {},
   "outputs": [],
   "source": [
    "model.compile(loss='categorical_crossentropy',optimizer = 'adam',metrics = ['accuracy'])\n",
    "#history = model.fit(trainSet, Ycombined, validation_split=0.01, epochs=1000, batch_size=128, verbose=0)"
   ]
  },
  {
   "cell_type": "code",
   "execution_count": 32,
   "metadata": {},
   "outputs": [],
   "source": [
    "notY=1-testy"
   ]
  },
  {
   "cell_type": "code",
   "execution_count": 33,
   "metadata": {},
   "outputs": [],
   "source": [
    "YcombinedTest = np.column_stack((testy, notY))"
   ]
  },
  {
   "cell_type": "code",
   "execution_count": 34,
   "metadata": {},
   "outputs": [
    {
     "data": {
      "text/plain": [
       "(417, 2)"
      ]
     },
     "execution_count": 34,
     "metadata": {},
     "output_type": "execute_result"
    }
   ],
   "source": [
    "YcombinedTest.shape"
   ]
  },
  {
   "cell_type": "code",
   "execution_count": 35,
   "metadata": {},
   "outputs": [],
   "source": [
    "#YcombinedTest"
   ]
  },
  {
   "cell_type": "code",
   "execution_count": 36,
   "metadata": {},
   "outputs": [
    {
     "data": {
      "text/plain": [
       "(417, 2)"
      ]
     },
     "execution_count": 36,
     "metadata": {},
     "output_type": "execute_result"
    }
   ],
   "source": [
    "YcombinedTest.shape"
   ]
  },
  {
   "cell_type": "code",
   "execution_count": 37,
   "metadata": {},
   "outputs": [],
   "source": [
    "notY=1-trainy"
   ]
  },
  {
   "cell_type": "code",
   "execution_count": 38,
   "metadata": {},
   "outputs": [],
   "source": [
    "YcombinedTrain = np.column_stack((trainy, notY))"
   ]
  },
  {
   "cell_type": "code",
   "execution_count": 39,
   "metadata": {},
   "outputs": [],
   "source": [
    "history = model.fit(trainx, YcombinedTrain, validation_data=(testx, YcombinedTest), epochs=1000, batch_size=128, verbose=0)"
   ]
  },
  {
   "cell_type": "code",
   "execution_count": 40,
   "metadata": {},
   "outputs": [],
   "source": [
    "def plot_loss(history):\n",
    "    plt.plot(history.history['loss'])\n",
    "    plt.plot(history.history['val_loss'])\n",
    "    plt.title('Model loss')\n",
    "    plt.ylabel('Loss')\n",
    "    plt.xlabel('Epoch')\n",
    "    plt.legend(['Train', 'Test'], loc='upper left')\n",
    "    plt.show()"
   ]
  },
  {
   "cell_type": "code",
   "execution_count": 41,
   "metadata": {},
   "outputs": [
    {
     "data": {
      "image/png": "[encoded data removed]",
      "text/plain": [
       "<Figure size 432x288 with 1 Axes>"
      ]
     },
     "metadata": {
      "needs_background": "light"
     },
     "output_type": "display_data"
    }
   ],
   "source": [
    "plot_loss(history)"
   ]
  },
  {
   "cell_type": "code",
   "execution_count": 42,
   "metadata": {},
   "outputs": [
    {
     "name": "stdout",
     "output_type": "stream",
     "text": [
      "417/417 [==============================] - 0s 17us/step\n"
     ]
    }
   ],
   "source": [
    "score, acc = model.evaluate(testx, YcombinedTest,batch_size=128)"
   ]
  },
  {
   "cell_type": "code",
   "execution_count": 43,
   "metadata": {},
   "outputs": [
    {
     "data": {
      "text/plain": [
       "0.3315800719266887"
      ]
     },
     "execution_count": 43,
     "metadata": {},
     "output_type": "execute_result"
    }
   ],
   "source": [
    "score"
   ]
  },
  {
   "cell_type": "code",
   "execution_count": 44,
   "metadata": {},
   "outputs": [
    {
     "data": {
      "text/plain": [
       "0.8776978254318237"
      ]
     },
     "execution_count": 44,
     "metadata": {},
     "output_type": "execute_result"
    }
   ],
   "source": [
    "acc"
   ]
  },
  {
   "cell_type": "code",
   "execution_count": 45,
   "metadata": {},
   "outputs": [],
   "source": [
    "predict = model.predict(testx)"
   ]
  },
  {
   "cell_type": "code",
   "execution_count": 46,
   "metadata": {},
   "outputs": [
    {
     "data": {
      "text/plain": [
       "(417,)"
      ]
     },
     "execution_count": 46,
     "metadata": {},
     "output_type": "execute_result"
    }
   ],
   "source": [
    "predict[:,1].shape"
   ]
  },
  {
   "cell_type": "code",
   "execution_count": 47,
   "metadata": {},
   "outputs": [
    {
     "data": {
      "text/plain": [
       "array([0.46779796, 0.53220206], dtype=float32)"
      ]
     },
     "execution_count": 47,
     "metadata": {},
     "output_type": "execute_result"
    }
   ],
   "source": [
    "predict[0,:]"
   ]
  },
  {
   "cell_type": "code",
   "execution_count": 48,
   "metadata": {},
   "outputs": [],
   "source": [
    "test = predict[:,0]\n",
    "for i in range(len(test)):\n",
    "    if predict[i,0] > 0.5: \n",
    "        predict[i,0] = 1\n",
    "    else:\n",
    "        predict[i,0] = 0"
   ]
  },
  {
   "cell_type": "code",
   "execution_count": 49,
   "metadata": {},
   "outputs": [],
   "source": [
    "#test = predict[:,0]\n",
    "#for i in test:\n",
    "   #print(i)"
   ]
  },
  {
   "cell_type": "code",
   "execution_count": 50,
   "metadata": {},
   "outputs": [
    {
     "name": "stdout",
     "output_type": "stream",
     "text": [
      "[[234  31]\n",
      " [ 20 132]]\n"
     ]
    },
    {
     "data": {
      "text/plain": [
       "(0.8806376086513041, 0.8776978417266187, 0.8785372032679389, None)"
      ]
     },
     "execution_count": 50,
     "metadata": {},
     "output_type": "execute_result"
    }
   ],
   "source": [
    "cm=confusion_matrix(testy, predict[:,0])\n",
    "print(cm)\n",
    "precision_recall_fscore_support(testy, predict[:,0],  average='weighted')"
   ]
  }
 ],
 "metadata": {
  "kernelspec": {
   "display_name": "Python 3",
   "language": "python",
   "name": "python3"
  },
  "language_info": {
   "codemirror_mode": {
    "name": "ipython",
    "version": 3
   },
   "file_extension": ".py",
   "mimetype": "text/x-python",
   "name": "python",
   "nbconvert_exporter": "python",
   "pygments_lexer": "ipython3",
   "version": "3.7.6"
  }
 },
 "nbformat": 4,
 "nbformat_minor": 4
}
